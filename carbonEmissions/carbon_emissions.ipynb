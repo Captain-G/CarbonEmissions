{
 "cells": [
  {
   "cell_type": "code",
   "execution_count": 19,
   "metadata": {
    "collapsed": true,
    "pycharm": {
     "name": "#%%\n"
    }
   },
   "outputs": [],
   "source": [
    "import pandas as pd\n",
    "import numpy as np\n",
    "import matplotlib.pyplot as plt\n",
    "import pylab as pl\n",
    "# % matplotlib inline"
   ]
  },
  {
   "cell_type": "code",
   "execution_count": 20,
   "outputs": [
    {
     "data": {
      "text/plain": "  MODEL YEAR   MAKE          MODEL VEHICLE CLASS  ENGINE SIZE  CYLINDERS  \\\n0       2010  ACURA            CSX       COMPACT          2.0        4.0   \n1       2010  ACURA            CSX       COMPACT          2.0        4.0   \n2       2010  ACURA            CSX       COMPACT          2.0        4.0   \n3       2010  ACURA        MDX AWD           SUV          3.7        6.0   \n4       2010  ACURA  RDX AWD TURBO           SUV          2.3        4.0   \n\n  TRANSMISSION FUEL TYPE  FUEL CONSUMPTION*  HWY (L/100 km)  COMB (L/100 km)  \\\n0          AS5         X               10.9             7.8              9.5   \n1           M5         X               10.0             7.6              8.9   \n2           M6         Z               11.6             8.1             10.0   \n3          AS6         Z               14.8            11.3             13.2   \n4          AS5         Z               13.2            10.3             11.9   \n\n   COMB (mpg)  CO2 EMISSIONS  \n0        30.0          219.0  \n1        32.0          205.0  \n2        28.0          230.0  \n3        21.0          304.0  \n4        24.0          274.0  ",
      "text/html": "<div>\n<style scoped>\n    .dataframe tbody tr th:only-of-type {\n        vertical-align: middle;\n    }\n\n    .dataframe tbody tr th {\n        vertical-align: top;\n    }\n\n    .dataframe thead th {\n        text-align: right;\n    }\n</style>\n<table border=\"1\" class=\"dataframe\">\n  <thead>\n    <tr style=\"text-align: right;\">\n      <th></th>\n      <th>MODEL YEAR</th>\n      <th>MAKE</th>\n      <th>MODEL</th>\n      <th>VEHICLE CLASS</th>\n      <th>ENGINE SIZE</th>\n      <th>CYLINDERS</th>\n      <th>TRANSMISSION</th>\n      <th>FUEL TYPE</th>\n      <th>FUEL CONSUMPTION*</th>\n      <th>HWY (L/100 km)</th>\n      <th>COMB (L/100 km)</th>\n      <th>COMB (mpg)</th>\n      <th>CO2 EMISSIONS</th>\n    </tr>\n  </thead>\n  <tbody>\n    <tr>\n      <th>0</th>\n      <td>2010</td>\n      <td>ACURA</td>\n      <td>CSX</td>\n      <td>COMPACT</td>\n      <td>2.0</td>\n      <td>4.0</td>\n      <td>AS5</td>\n      <td>X</td>\n      <td>10.9</td>\n      <td>7.8</td>\n      <td>9.5</td>\n      <td>30.0</td>\n      <td>219.0</td>\n    </tr>\n    <tr>\n      <th>1</th>\n      <td>2010</td>\n      <td>ACURA</td>\n      <td>CSX</td>\n      <td>COMPACT</td>\n      <td>2.0</td>\n      <td>4.0</td>\n      <td>M5</td>\n      <td>X</td>\n      <td>10.0</td>\n      <td>7.6</td>\n      <td>8.9</td>\n      <td>32.0</td>\n      <td>205.0</td>\n    </tr>\n    <tr>\n      <th>2</th>\n      <td>2010</td>\n      <td>ACURA</td>\n      <td>CSX</td>\n      <td>COMPACT</td>\n      <td>2.0</td>\n      <td>4.0</td>\n      <td>M6</td>\n      <td>Z</td>\n      <td>11.6</td>\n      <td>8.1</td>\n      <td>10.0</td>\n      <td>28.0</td>\n      <td>230.0</td>\n    </tr>\n    <tr>\n      <th>3</th>\n      <td>2010</td>\n      <td>ACURA</td>\n      <td>MDX AWD</td>\n      <td>SUV</td>\n      <td>3.7</td>\n      <td>6.0</td>\n      <td>AS6</td>\n      <td>Z</td>\n      <td>14.8</td>\n      <td>11.3</td>\n      <td>13.2</td>\n      <td>21.0</td>\n      <td>304.0</td>\n    </tr>\n    <tr>\n      <th>4</th>\n      <td>2010</td>\n      <td>ACURA</td>\n      <td>RDX AWD TURBO</td>\n      <td>SUV</td>\n      <td>2.3</td>\n      <td>4.0</td>\n      <td>AS5</td>\n      <td>Z</td>\n      <td>13.2</td>\n      <td>10.3</td>\n      <td>11.9</td>\n      <td>24.0</td>\n      <td>274.0</td>\n    </tr>\n  </tbody>\n</table>\n</div>"
     },
     "execution_count": 20,
     "metadata": {},
     "output_type": "execute_result"
    }
   ],
   "source": [
    "df = pd.read_csv(\"data/FUEL_CONSUMPTION.csv\")\n",
    "df.head()"
   ],
   "metadata": {
    "collapsed": false,
    "pycharm": {
     "name": "#%%\n"
    }
   }
  },
  {
   "cell_type": "code",
   "execution_count": 21,
   "outputs": [
    {
     "data": {
      "text/plain": "MODEL YEAR           17\nMAKE                  7\nMODEL                26\nVEHICLE CLASS        26\nENGINE SIZE           0\nCYLINDERS             0\nTRANSMISSION         26\nFUEL TYPE            26\nFUEL CONSUMPTION*     0\nHWY (L/100 km)        0\nCOMB (L/100 km)       0\nCOMB (mpg)            0\nCO2 EMISSIONS         0\ndtype: int64"
     },
     "execution_count": 21,
     "metadata": {},
     "output_type": "execute_result"
    }
   ],
   "source": [
    "column_means = df.mean()\n",
    "df = df.fillna(column_means)\n",
    "df.isnull().sum()"
   ],
   "metadata": {
    "collapsed": false,
    "pycharm": {
     "name": "#%%\n"
    }
   }
  },
  {
   "cell_type": "code",
   "execution_count": 22,
   "outputs": [
    {
     "data": {
      "text/plain": "Index(['MODEL YEAR', 'MAKE', 'MODEL', 'VEHICLE CLASS', 'ENGINE SIZE',\n       'CYLINDERS', 'TRANSMISSION', 'FUEL TYPE', 'FUEL CONSUMPTION*',\n       'HWY (L/100 km)', 'COMB (L/100 km)', 'COMB (mpg)', 'CO2 EMISSIONS'],\n      dtype='object')"
     },
     "execution_count": 22,
     "metadata": {},
     "output_type": "execute_result"
    }
   ],
   "source": [
    "df.columns"
   ],
   "metadata": {
    "collapsed": false,
    "pycharm": {
     "name": "#%%\n"
    }
   }
  },
  {
   "cell_type": "code",
   "execution_count": 23,
   "outputs": [
    {
     "data": {
      "text/plain": "   ENGINE SIZE  CYLINDERS  FUEL CONSUMPTION*  HWY (L/100 km)  COMB (L/100 km)  \\\n0          2.0        4.0               10.9             7.8              9.5   \n1          2.0        4.0               10.0             7.6              8.9   \n2          2.0        4.0               11.6             8.1             10.0   \n3          3.7        6.0               14.8            11.3             13.2   \n4          2.3        4.0               13.2            10.3             11.9   \n5          3.7        6.0               14.7            10.6             12.9   \n6          3.5        6.0               13.1             8.9             11.2   \n7          3.7        6.0               13.8             9.6             11.9   \n8          3.7        6.0               13.4             9.5             11.6   \n9          2.4        4.0               11.0             7.8              9.5   \n\n   CO2 EMISSIONS  \n0          219.0  \n1          205.0  \n2          230.0  \n3          304.0  \n4          274.0  \n5          297.0  \n6          258.0  \n7          274.0  \n8          267.0  \n9          219.0  ",
      "text/html": "<div>\n<style scoped>\n    .dataframe tbody tr th:only-of-type {\n        vertical-align: middle;\n    }\n\n    .dataframe tbody tr th {\n        vertical-align: top;\n    }\n\n    .dataframe thead th {\n        text-align: right;\n    }\n</style>\n<table border=\"1\" class=\"dataframe\">\n  <thead>\n    <tr style=\"text-align: right;\">\n      <th></th>\n      <th>ENGINE SIZE</th>\n      <th>CYLINDERS</th>\n      <th>FUEL CONSUMPTION*</th>\n      <th>HWY (L/100 km)</th>\n      <th>COMB (L/100 km)</th>\n      <th>CO2 EMISSIONS</th>\n    </tr>\n  </thead>\n  <tbody>\n    <tr>\n      <th>0</th>\n      <td>2.0</td>\n      <td>4.0</td>\n      <td>10.9</td>\n      <td>7.8</td>\n      <td>9.5</td>\n      <td>219.0</td>\n    </tr>\n    <tr>\n      <th>1</th>\n      <td>2.0</td>\n      <td>4.0</td>\n      <td>10.0</td>\n      <td>7.6</td>\n      <td>8.9</td>\n      <td>205.0</td>\n    </tr>\n    <tr>\n      <th>2</th>\n      <td>2.0</td>\n      <td>4.0</td>\n      <td>11.6</td>\n      <td>8.1</td>\n      <td>10.0</td>\n      <td>230.0</td>\n    </tr>\n    <tr>\n      <th>3</th>\n      <td>3.7</td>\n      <td>6.0</td>\n      <td>14.8</td>\n      <td>11.3</td>\n      <td>13.2</td>\n      <td>304.0</td>\n    </tr>\n    <tr>\n      <th>4</th>\n      <td>2.3</td>\n      <td>4.0</td>\n      <td>13.2</td>\n      <td>10.3</td>\n      <td>11.9</td>\n      <td>274.0</td>\n    </tr>\n    <tr>\n      <th>5</th>\n      <td>3.7</td>\n      <td>6.0</td>\n      <td>14.7</td>\n      <td>10.6</td>\n      <td>12.9</td>\n      <td>297.0</td>\n    </tr>\n    <tr>\n      <th>6</th>\n      <td>3.5</td>\n      <td>6.0</td>\n      <td>13.1</td>\n      <td>8.9</td>\n      <td>11.2</td>\n      <td>258.0</td>\n    </tr>\n    <tr>\n      <th>7</th>\n      <td>3.7</td>\n      <td>6.0</td>\n      <td>13.8</td>\n      <td>9.6</td>\n      <td>11.9</td>\n      <td>274.0</td>\n    </tr>\n    <tr>\n      <th>8</th>\n      <td>3.7</td>\n      <td>6.0</td>\n      <td>13.4</td>\n      <td>9.5</td>\n      <td>11.6</td>\n      <td>267.0</td>\n    </tr>\n    <tr>\n      <th>9</th>\n      <td>2.4</td>\n      <td>4.0</td>\n      <td>11.0</td>\n      <td>7.8</td>\n      <td>9.5</td>\n      <td>219.0</td>\n    </tr>\n  </tbody>\n</table>\n</div>"
     },
     "execution_count": 23,
     "metadata": {},
     "output_type": "execute_result"
    }
   ],
   "source": [
    "df = df[['ENGINE SIZE','CYLINDERS','FUEL CONSUMPTION*','HWY (L/100 km)','COMB (L/100 km)','CO2 EMISSIONS']]\n",
    "df.head(10)"
   ],
   "metadata": {
    "collapsed": false,
    "pycharm": {
     "name": "#%%\n"
    }
   }
  },
  {
   "cell_type": "code",
   "execution_count": 24,
   "outputs": [
    {
     "data": {
      "text/plain": "<Figure size 432x288 with 1 Axes>",
      "image/png": "[encoded data removed]"
     },
     "metadata": {
      "needs_background": "light"
     },
     "output_type": "display_data"
    }
   ],
   "source": [
    "plt.scatter(df[\"ENGINE SIZE\"], df[\"CO2 EMISSIONS\"],  color='blue')\n",
    "plt.xlabel(\"Engine size\")\n",
    "plt.ylabel(\"Emission\")\n",
    "plt.show()"
   ],
   "metadata": {
    "collapsed": false,
    "pycharm": {
     "name": "#%%\n"
    }
   }
  },
  {
   "cell_type": "code",
   "execution_count": 25,
   "outputs": [
    {
     "data": {
      "text/plain": "<Figure size 432x288 with 1 Axes>",
      "image/png": "[encoded data removed]"
     },
     "metadata": {
      "needs_background": "light"
     },
     "output_type": "display_data"
    }
   ],
   "source": [
    "plt.scatter(df[\"CYLINDERS\"], df[\"CO2 EMISSIONS\"],  color='blue')\n",
    "plt.xlabel(\"Engine size\")\n",
    "plt.ylabel(\"Emission\")\n",
    "plt.show()"
   ],
   "metadata": {
    "collapsed": false,
    "pycharm": {
     "name": "#%%\n"
    }
   }
  },
  {
   "cell_type": "code",
   "execution_count": 26,
   "outputs": [
    {
     "data": {
      "text/plain": "<Figure size 432x288 with 1 Axes>",
      "image/png": "[encoded data removed]"
     },
     "metadata": {
      "needs_background": "light"
     },
     "output_type": "display_data"
    }
   ],
   "source": [
    "plt.scatter(df[\"FUEL CONSUMPTION*\"], df[\"CO2 EMISSIONS\"],  color='blue')\n",
    "plt.xlabel(\"Engine size\")\n",
    "plt.ylabel(\"Emission\")\n",
    "plt.show()"
   ],
   "metadata": {
    "collapsed": false,
    "pycharm": {
     "name": "#%%\n"
    }
   }
  },
  {
   "cell_type": "code",
   "execution_count": 27,
   "outputs": [
    {
     "data": {
      "text/plain": "<Figure size 432x288 with 1 Axes>",
      "image/png": "[encoded data removed]"
     },
     "metadata": {
      "needs_background": "light"
     },
     "output_type": "display_data"
    }
   ],
   "source": [
    "plt.scatter(df[\"HWY (L/100 km)\"], df[\"CO2 EMISSIONS\"],  color='blue')\n",
    "plt.xlabel(\"Engine size\")\n",
    "plt.ylabel(\"Emission\")\n",
    "plt.show()"
   ],
   "metadata": {
    "collapsed": false,
    "pycharm": {
     "name": "#%%\n"
    }
   }
  },
  {
   "cell_type": "code",
   "execution_count": 28,
   "outputs": [
    {
     "data": {
      "text/plain": "<Figure size 432x288 with 1 Axes>",
      "image/png": "[encoded data removed]"
     },
     "metadata": {
      "needs_background": "light"
     },
     "output_type": "display_data"
    }
   ],
   "source": [
    "plt.scatter(df[\"COMB (L/100 km)\"], df[\"CO2 EMISSIONS\"],  color='blue')\n",
    "plt.xlabel(\"Engine size\")\n",
    "plt.ylabel(\"Emission\")\n",
    "plt.show()"
   ],
   "metadata": {
    "collapsed": false,
    "pycharm": {
     "name": "#%%\n"
    }
   }
  },
  {
   "cell_type": "code",
   "execution_count": 29,
   "outputs": [],
   "source": [
    "msk = np.random.rand(len(df)) < 0.8\n",
    "train = df[msk]\n",
    "test = df[~msk]"
   ],
   "metadata": {
    "collapsed": false,
    "pycharm": {
     "name": "#%%\n"
    }
   }
  },
  {
   "cell_type": "code",
   "execution_count": 30,
   "outputs": [
    {
     "data": {
      "text/plain": "<Figure size 432x288 with 1 Axes>",
      "image/png": "[encoded data removed]"
     },
     "metadata": {
      "needs_background": "light"
     },
     "output_type": "display_data"
    }
   ],
   "source": [
    "plt.scatter(train[\"ENGINE SIZE\"], train[\"CO2 EMISSIONS\"],  color='blue')\n",
    "plt.xlabel(\"Engine size\")\n",
    "plt.ylabel(\"Emission\")\n",
    "plt.show()"
   ],
   "metadata": {
    "collapsed": false,
    "pycharm": {
     "name": "#%%\n"
    }
   }
  },
  {
   "cell_type": "code",
   "execution_count": 31,
   "outputs": [
    {
     "data": {
      "text/plain": "ENGINE SIZE          0\nCYLINDERS            0\nFUEL CONSUMPTION*    0\nHWY (L/100 km)       0\nCOMB (L/100 km)      0\nCO2 EMISSIONS        0\ndtype: int64"
     },
     "execution_count": 31,
     "metadata": {},
     "output_type": "execute_result"
    }
   ],
   "source": [
    "df.isnull().sum()"
   ],
   "metadata": {
    "collapsed": false,
    "pycharm": {
     "name": "#%%\n"
    }
   }
  },
  {
   "cell_type": "code",
   "execution_count": 32,
   "outputs": [
    {
     "data": {
      "text/plain": "ENGINE SIZE          0\nCYLINDERS            0\nFUEL CONSUMPTION*    0\nHWY (L/100 km)       0\nCOMB (L/100 km)      0\nCO2 EMISSIONS        0\ndtype: int64"
     },
     "execution_count": 32,
     "metadata": {},
     "output_type": "execute_result"
    }
   ],
   "source": [
    "column_means = df.mean()\n",
    "df = df.fillna(column_means)\n",
    "df.isnull().sum()"
   ],
   "metadata": {
    "collapsed": false,
    "pycharm": {
     "name": "#%%\n"
    }
   }
  },
  {
   "cell_type": "code",
   "execution_count": 33,
   "outputs": [
    {
     "name": "stdout",
     "output_type": "stream",
     "text": [
      "Coefficients:  [[9.60506439 8.19897219 9.67405587]]\n"
     ]
    }
   ],
   "source": [
    "from sklearn import linear_model\n",
    "regr = linear_model.LinearRegression()\n",
    "x = np.asanyarray(train[['ENGINE SIZE','CYLINDERS','COMB (L/100 km)']])\n",
    "y = np.asanyarray(train[['CO2 EMISSIONS']])\n",
    "regr.fit (x, y)\n",
    "print ('Coefficients: ', regr.coef_)"
   ],
   "metadata": {
    "collapsed": false,
    "pycharm": {
     "name": "#%%\n"
    }
   }
  },
  {
   "cell_type": "code",
   "execution_count": 34,
   "outputs": [
    {
     "name": "stdout",
     "output_type": "stream",
     "text": [
      "Mean Squared error(MSE): 585.98\n",
      "Variance score: 0.86\n"
     ]
    }
   ],
   "source": [
    "y_hat= regr.predict(test[['ENGINE SIZE','CYLINDERS','COMB (L/100 km)']])\n",
    "x = np.asanyarray(test[['ENGINE SIZE','CYLINDERS','COMB (L/100 km)']])\n",
    "y = np.asanyarray(test[['CO2 EMISSIONS']])\n",
    "print(\"Mean Squared error(MSE): %.2f\"\n",
    "      % np.mean((y_hat - y) ** 2))\n",
    "\n",
    "# Explained variance score: 1 is perfect prediction\n",
    "print('Variance score: %.2f' % regr.score(x, y))"
   ],
   "metadata": {
    "collapsed": false,
    "pycharm": {
     "name": "#%%\n"
    }
   }
  },
  {
   "cell_type": "code",
   "execution_count": 35,
   "outputs": [
    {
     "name": "stdout",
     "output_type": "stream",
     "text": [
      "Mean Absolute Error (MAE): 17.759699046154985\n"
     ]
    }
   ],
   "source": [
    "from sklearn.metrics import mean_absolute_error, mean_squared_error, r2_score\n",
    "import numpy as np\n",
    "\n",
    "# Make predictions on the test data\n",
    "y_hat = regr.predict(test[['ENGINE SIZE','CYLINDERS','COMB (L/100 km)']])\n",
    "\n",
    "# Calculate Mean Absolute Error (MAE)\n",
    "mae = mean_absolute_error(test[['CO2 EMISSIONS']], y_hat)\n",
    "print(f'Mean Absolute Error (MAE): {mae}')"
   ],
   "metadata": {
    "collapsed": false,
    "pycharm": {
     "name": "#%%\n"
    }
   }
  },
  {
   "cell_type": "code",
   "execution_count": 37,
   "outputs": [
    {
     "name": "stdout",
     "output_type": "stream",
     "text": [
      "Root Mean Squared Error (RMSE): 24.20697612946844\n"
     ]
    }
   ],
   "source": [
    "# Calculate Mean Squared Error (MSE)\n",
    "mse = mean_squared_error(test[['CO2 EMISSIONS']], y_hat)\n",
    "# # Calculate Root Mean Squared Error (RMSE)\n",
    "rmse = np.sqrt(mse)\n",
    "print(f'Root Mean Squared Error (RMSE): {rmse}')\n"
   ],
   "metadata": {
    "collapsed": false,
    "pycharm": {
     "name": "#%%\n"
    }
   }
  },
  {
   "cell_type": "code",
   "execution_count": 38,
   "outputs": [
    {
     "name": "stdout",
     "output_type": "stream",
     "text": [
      "R-squared (R2) Score: 0.8623359071441441\n"
     ]
    }
   ],
   "source": [
    "# Calculate R-squared (R2) score\n",
    "r2 = r2_score(test[['CO2 EMISSIONS']], y_hat)\n",
    "print(f'R-squared (R2) Score: {r2}')"
   ],
   "metadata": {
    "collapsed": false,
    "pycharm": {
     "name": "#%%\n"
    }
   }
  },
  {
   "cell_type": "code",
   "execution_count": null,
   "outputs": [],
   "source": [],
   "metadata": {
    "collapsed": false,
    "pycharm": {
     "name": "#%%\n"
    }
   }
  }
 ],
 "metadata": {
  "kernelspec": {
   "display_name": "Python 3",
   "language": "python",
   "name": "python3"
  },
  "language_info": {
   "codemirror_mode": {
    "name": "ipython",
    "version": 2
   },
   "file_extension": ".py",
   "mimetype": "text/x-python",
   "name": "python",
   "nbconvert_exporter": "python",
   "pygments_lexer": "ipython2",
   "version": "2.7.6"
  }
 },
 "nbformat": 4,
 "nbformat_minor": 0
}